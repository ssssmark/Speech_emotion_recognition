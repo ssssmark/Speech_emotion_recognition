{
 "cells": [
  {
   "cell_type": "code",
   "execution_count": 1,
   "id": "0e488169-81c9-424c-bfd8-7076e984b5e7",
   "metadata": {
    "execution": {
     "iopub.execute_input": "2023-12-05T02:05:51.294092Z",
     "iopub.status.busy": "2023-12-05T02:05:51.293839Z",
     "iopub.status.idle": "2023-12-05T02:05:58.859878Z",
     "shell.execute_reply": "2023-12-05T02:05:58.859120Z",
     "shell.execute_reply.started": "2023-12-05T02:05:51.294065Z"
    },
    "tags": [],
    "ExecuteTime": {
     "end_time": "2023-12-05T14:05:24.462327200Z",
     "start_time": "2023-12-05T14:05:21.124156300Z"
    }
   },
   "outputs": [
    {
     "name": "stdout",
     "output_type": "stream",
     "text": [
      "Done\n"
     ]
    }
   ],
   "source": [
    "import pandas as pd\n",
    "import numpy as np\n",
    "\n",
    "import os\n",
    "import sys\n",
    "\n",
    "import librosa\n",
    "import librosa.display\n",
    "import seaborn as sns\n",
    "import matplotlib.pyplot as plt\n",
    "\n",
    "from sklearn.preprocessing import StandardScaler, OneHotEncoder\n",
    "from sklearn.metrics import confusion_matrix, classification_report\n",
    "from sklearn.model_selection import train_test_split\n",
    "\n",
    "import IPython.display as ipd\n",
    "from IPython.display import Audio\n",
    "import keras\n",
    "from keras.preprocessing import sequence\n",
    "from keras.models import Sequential\n",
    "from keras.layers import Dense, Embedding\n",
    "from keras.layers import LSTM,BatchNormalization , GRU,Attention\n",
    "from keras.preprocessing.text import Tokenizer\n",
    "# from keras.preprocessing.sequence import pad_sequences\n",
    "from tensorflow.keras.utils import to_categorical\n",
    "from keras.layers import Input, Flatten, Dropout, Activation\n",
    "from keras.layers import Conv1D, MaxPooling1D, AveragePooling1D\n",
    "from keras.models import Model\n",
    "from keras.callbacks import ModelCheckpoint, EarlyStopping,ReduceLROnPlateau\n",
    "from tensorflow.keras.optimizers import SGD\n",
    "import warnings\n",
    "if not sys.warnoptions:\n",
    "    warnings.simplefilter(\"ignore\")\n",
    "warnings.filterwarnings(\"ignore\", category=DeprecationWarning) \n",
    "import tensorflow as tf \n",
    "print (\"Done\")"
   ]
  },
  {
   "cell_type": "code",
   "execution_count": 2,
   "id": "f5efd7cb-3193-407e-a75f-9394ef8effba",
   "metadata": {
    "execution": {
     "iopub.execute_input": "2023-12-05T02:05:58.861501Z",
     "iopub.status.busy": "2023-12-05T02:05:58.860970Z",
     "iopub.status.idle": "2023-12-05T02:06:26.281076Z",
     "shell.execute_reply": "2023-12-05T02:06:26.280412Z",
     "shell.execute_reply.started": "2023-12-05T02:05:58.861473Z"
    },
    "tags": [],
    "ExecuteTime": {
     "end_time": "2023-12-05T14:05:40.782717700Z",
     "start_time": "2023-12-05T14:05:24.456344100Z"
    }
   },
   "outputs": [
    {
     "name": "stdout",
     "output_type": "stream",
     "text": [
      "0           False\n",
      "1           False\n",
      "2           False\n",
      "3           False\n",
      "4           False\n",
      "            ...  \n",
      "2372        False\n",
      "2373        False\n",
      "2374        False\n",
      "2375        False\n",
      "Emotions    False\n",
      "Length: 2377, dtype: bool\n"
     ]
    },
    {
     "data": {
      "text/plain": "(46728, 2377)"
     },
     "execution_count": 2,
     "metadata": {},
     "output_type": "execute_result"
    }
   ],
   "source": [
    "Emotions = pd.read_csv('emotion.csv')\n",
    "Emotions=Emotions.fillna(0)\n",
    "print(Emotions.isna().any())\n",
    "Emotions.shape"
   ]
  },
  {
   "cell_type": "code",
   "execution_count": 3,
   "id": "431aed2e-f643-4401-bed5-1ebbd3f22c34",
   "metadata": {
    "ExecutionIndicator": {
     "show": true
    },
    "execution": {
     "iopub.execute_input": "2023-12-05T02:06:26.282428Z",
     "iopub.status.busy": "2023-12-05T02:06:26.282074Z",
     "iopub.status.idle": "2023-12-05T02:06:27.487451Z",
     "shell.execute_reply": "2023-12-05T02:06:27.486767Z",
     "shell.execute_reply.started": "2023-12-05T02:06:26.282403Z"
    },
    "tags": [],
    "ExecuteTime": {
     "end_time": "2023-12-05T14:05:41.801171Z",
     "start_time": "2023-12-05T14:05:40.776735200Z"
    }
   },
   "outputs": [
    {
     "data": {
      "text/plain": "((37382, 2376), (37382,), (9346, 2376), (9346,))"
     },
     "execution_count": 3,
     "metadata": {},
     "output_type": "execute_result"
    }
   ],
   "source": [
    "Y=Emotions['Emotions']\n",
    "X= Emotions.drop('Emotions',axis= 1)\n",
    "#train test split\n",
    "x_train, x_test, y_train, y_test = train_test_split(X, Y, random_state=35,test_size=0.2, shuffle=True)\n",
    "x_train.shape, y_train.shape, x_test.shape, y_test.shape"
   ]
  },
  {
   "cell_type": "code",
   "execution_count": 4,
   "id": "3dd98ccd-a640-4e0e-92ce-ad8b97fc2f6d",
   "metadata": {
    "execution": {
     "iopub.execute_input": "2023-12-05T02:06:27.489565Z",
     "iopub.status.busy": "2023-12-05T02:06:27.489195Z",
     "iopub.status.idle": "2023-12-05T02:06:29.118307Z",
     "shell.execute_reply": "2023-12-05T02:06:29.117314Z",
     "shell.execute_reply.started": "2023-12-05T02:06:27.489538Z"
    },
    "tags": [],
    "ExecuteTime": {
     "end_time": "2023-12-05T14:05:43.176697Z",
     "start_time": "2023-12-05T14:05:41.802168800Z"
    }
   },
   "outputs": [
    {
     "data": {
      "text/plain": "((37382, 2376), (37382,), (9346, 2376), (9346,))"
     },
     "execution_count": 4,
     "metadata": {},
     "output_type": "execute_result"
    }
   ],
   "source": [
    "# scale data\n",
    "scaler = StandardScaler()\n",
    "x_train = scaler.fit_transform(x_train)\n",
    "x_test = scaler.transform(x_test)\n",
    "x_train.shape, y_train.shape, x_test.shape, y_test.shape"
   ]
  },
  {
   "cell_type": "code",
   "execution_count": null,
   "id": "8e2b1ce2-5dd2-469f-89dc-dd8528159547",
   "metadata": {
    "ExecutionIndicator": {
     "show": true
    },
    "execution": {
     "iopub.execute_input": "2023-12-05T02:06:29.119653Z",
     "iopub.status.busy": "2023-12-05T02:06:29.119298Z",
     "iopub.status.idle": "2023-12-05T03:05:20.520995Z",
     "shell.execute_reply": "2023-12-05T03:05:20.520210Z",
     "shell.execute_reply.started": "2023-12-05T02:06:29.119628Z"
    },
    "tags": [],
    "is_executing": true,
    "ExecuteTime": {
     "start_time": "2023-12-05T14:05:43.176697Z"
    }
   },
   "outputs": [
    {
     "name": "stdout",
     "output_type": "stream",
     "text": [
      "[LibSVM]"
     ]
    }
   ],
   "source": [
    "from sklearn.svm import SVC\n",
    "from sklearn.model_selection import GridSearchCV \n",
    "import time\n",
    "# 参数\n",
    "parameters = [\n",
    "    {\n",
    "        'kernel': ['linear'],   # 线性核函数\n",
    "        'C': [1 * 10**i for i in range(-3, 11)],\n",
    "        'class_weight': ['balanced'], #样本均衡度\n",
    "        'max_iter': [100000] \n",
    "    }\n",
    "]\n",
    "model_svm = SVC(kernel='linear',class_weight='balanced',C=3,verbose=1,gamma=1)\n",
    "\n",
    "# 训练模型\n",
    "model_svm.fit(x_train, y_train)"
   ]
  },
  {
   "cell_type": "code",
   "execution_count": null,
   "id": "c8049cf2-b032-4432-af00-a4eb4348680b",
   "metadata": {
    "ExecutionIndicator": {
     "show": true
    },
    "execution": {
     "iopub.execute_input": "2023-12-05T03:05:20.522305Z",
     "iopub.status.busy": "2023-12-05T03:05:20.521998Z",
     "iopub.status.idle": "2023-12-05T03:20:38.417338Z",
     "shell.execute_reply": "2023-12-05T03:20:38.415459Z",
     "shell.execute_reply.started": "2023-12-05T03:05:20.522283Z"
    },
    "tags": [],
    "is_executing": true
   },
   "outputs": [],
   "source": [
    "from sklearn.metrics import accuracy_score\n",
    "# 在测试集上进行预测\n",
    "y_pred = model_svm.predict(x_test)\n",
    "# 计算准确率\n",
    "accuracy = accuracy_score(y_test, y_pred)\n",
    "print(f\"test Accuracy: {accuracy}\")"
   ]
  },
  {
   "cell_type": "code",
   "execution_count": null,
   "id": "439e1f6c-1bbd-41da-9558-bc0e4b7b86ed",
   "metadata": {
    "execution": {
     "iopub.status.busy": "2023-12-05T03:20:38.418156Z",
     "iopub.status.idle": "2023-12-05T03:20:38.418583Z",
     "shell.execute_reply": "2023-12-05T03:20:38.418432Z",
     "shell.execute_reply.started": "2023-12-05T03:20:38.418410Z"
    },
    "tags": [],
    "is_executing": true
   },
   "outputs": [],
   "source": [
    "# 在训练集上进行预测\n",
    "y_pred = model_svm.predict(x_train)\n",
    "\n",
    "# 计算准确率\n",
    "accuracy = accuracy_score(y_train, y_pred)\n",
    "print(f\"train  Accuracy: {accuracy}\")"
   ]
  },
  {
   "cell_type": "code",
   "execution_count": null,
   "id": "4865bd83-ab21-4ee5-b54d-e346afabcbe6",
   "metadata": {
    "ExecutionIndicator": {
     "show": true
    },
    "execution": {
     "iopub.status.busy": "2023-12-05T03:20:38.419515Z",
     "iopub.status.idle": "2023-12-05T03:20:38.419822Z",
     "shell.execute_reply": "2023-12-05T03:20:38.419681Z",
     "shell.execute_reply.started": "2023-12-05T03:20:38.419668Z"
    },
    "tags": [],
    "is_executing": true
   },
   "outputs": [],
   "source": [
    "from sklearn.metrics import accuracy_score,confusion_matrix\n",
    "y_pred = model_svm.predict(x_test)\n",
    "conf_matrix = confusion_matrix(y_test, y_pred)\n",
    "emotions=['neutral','happy','sad','angry', 'fear','disgust','surprise']\n",
    "# 使用seaborn绘制热力图\n",
    "plt.figure(figsize=(8, 6))\n",
    "sns.heatmap(conf_matrix, annot=True, fmt='d', cmap='Blues', xticklabels=[i for i in emotions],\n",
    "            yticklabels=[i for i in emotions])\n",
    "plt.xlabel('Predicted')\n",
    "plt.ylabel('True')\n",
    "plt.title('Confusion Matrix')\n",
    "plt.show()\n"
   ]
  },
  {
   "cell_type": "code",
   "execution_count": null,
   "outputs": [],
   "source": [],
   "metadata": {
    "collapsed": false,
    "is_executing": true
   },
   "id": "89a0adfd21cfe448"
  }
 ],
 "metadata": {
  "kernelspec": {
   "display_name": "Python 3 (ipykernel)",
   "language": "python",
   "name": "python3"
  },
  "language_info": {
   "codemirror_mode": {
    "name": "ipython",
    "version": 3
   },
   "file_extension": ".py",
   "mimetype": "text/x-python",
   "name": "python",
   "nbconvert_exporter": "python",
   "pygments_lexer": "ipython3",
   "version": "3.8.16"
  }
 },
 "nbformat": 4,
 "nbformat_minor": 5
}
