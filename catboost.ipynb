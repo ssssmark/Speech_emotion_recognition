{
 "cells": [
  {
   "cell_type": "code",
   "execution_count": null,
   "outputs": [],
   "source": [
    "import pandas as pd\n",
    "import numpy as np\n",
    "\n",
    "import os\n",
    "import sys\n",
    "\n",
    "import librosa\n",
    "import librosa.display\n",
    "import seaborn as sns\n",
    "import matplotlib.pyplot as plt\n",
    "\n",
    "from sklearn.preprocessing import StandardScaler, OneHotEncoder\n",
    "from sklearn.metrics import confusion_matrix, classification_report\n",
    "from sklearn.model_selection import train_test_split\n",
    "from lightgbm import LGBMClassifier\n",
    "from sklearn.metrics import  accuracy_score,classification_report"
   ],
   "metadata": {
    "collapsed": false
   },
   "id": "a9e94a0b049a5e94"
  },
  {
   "cell_type": "code",
   "execution_count": null,
   "outputs": [],
   "source": [
    "Emotions = pd.read_csv('emotion.csv')"
   ],
   "metadata": {
    "collapsed": false
   },
   "id": "622219e284d76cc5"
  },
  {
   "cell_type": "code",
   "execution_count": null,
   "outputs": [],
   "source": [
    "Emotions=Emotions.fillna(0)\n",
    "print(Emotions.isna().any())\n",
    "Emotions.shape"
   ],
   "metadata": {
    "collapsed": false
   },
   "id": "72348bb740ead576"
  },
  {
   "cell_type": "code",
   "execution_count": null,
   "outputs": [],
   "source": [
    "Y=Emotions['Emotions']\n",
    "X= Emotions.drop('Emotions',axis= 1)"
   ],
   "metadata": {
    "collapsed": false
   },
   "id": "a2c3455ced7c0be2"
  },
  {
   "cell_type": "code",
   "execution_count": null,
   "outputs": [],
   "source": [
    "Y_class=Y.replace({'neutral':0,'happy':1,'sad':2,'angry':3, 'fear':4,'disgust':5,'surprise':6})"
   ],
   "metadata": {
    "collapsed": false
   },
   "id": "9354f08feb7c7c20"
  },
  {
   "cell_type": "code",
   "execution_count": null,
   "outputs": [],
   "source": [
    "#train test split\n",
    "x_train, x_test, y_train, y_test = train_test_split(X, Y_class, random_state=35,test_size=0.2, shuffle=True)\n",
    "x_train.shape, y_train.shape, x_test.shape, y_test.shape"
   ],
   "metadata": {
    "collapsed": false
   },
   "id": "87b521c5caf7ea7d"
  },
  {
   "cell_type": "code",
   "execution_count": null,
   "outputs": [],
   "source": [
    "# scale data\n",
    "scaler = StandardScaler()\n",
    "x_train = scaler.fit_transform(x_train)\n",
    "x_test = scaler.transform(x_test)\n",
    "x_train.shape, y_train.shape, x_test.shape, y_test.shape"
   ],
   "metadata": {
    "collapsed": false
   },
   "id": "1a9b694f26b3f03c"
  },
  {
   "cell_type": "code",
   "execution_count": null,
   "id": "initial_id",
   "metadata": {
    "collapsed": true
   },
   "outputs": [],
   "source": [
    "from catboost import CatBoostClassifier,Pool\n",
    "from sklearn.model_selection import train_test_split\n",
    "from sklearn.metrics import accuracy_score, roc_auc_score\n",
    "\n",
    "\n",
    "# 创建 CatBoost 分类器模型\n",
    "catboost_model = CatBoostClassifier(iterations=1000,\n",
    "                                    learning_rate=0.3,\n",
    "                                    depth=5,\n",
    "                                    random_state=42,\n",
    "                                    l2_leaf_reg=5,\n",
    "                                    loss_function='MultiClass',  \n",
    "                                    classes_count=7,  \n",
    "                                    )\n",
    "train_pool = Pool(x_train, label=y_train)\n",
    "test_pool = Pool(x_test, label=y_test)\n",
    "\n",
    "# 训练 CatBoost 模型\n",
    "catboost_model.fit(train_pool, eval_set=test_pool,plot=True)"
   ]
  },
  {
   "cell_type": "code",
   "execution_count": null,
   "outputs": [],
   "source": [
    "#训练集\n",
    "y_pred_train = catboost_model.predict(train_pool)"
   ],
   "metadata": {
    "collapsed": false
   },
   "id": "c1bd319e8ff4d80d"
  },
  {
   "cell_type": "code",
   "execution_count": null,
   "outputs": [],
   "source": [
    "accuracy= accuracy_score(y_train, y_pred_train)\n",
    "print(f\"train Accuracy: {accuracy}\")"
   ],
   "metadata": {
    "collapsed": false
   },
   "id": "78ab3d2e8b5e2c7b"
  },
  {
   "cell_type": "code",
   "execution_count": null,
   "outputs": [],
   "source": [
    "# 测试集上概率\n",
    "y_pred = catboost_model.predict(test_pool)"
   ],
   "metadata": {
    "collapsed": false
   },
   "id": "f0fd22782b098d89"
  },
  {
   "cell_type": "code",
   "execution_count": null,
   "outputs": [],
   "source": [
    "accuracy= accuracy_score(y_test, y_pred)\n",
    "print(f\"test Accuracy: {accuracy}\")"
   ],
   "metadata": {
    "collapsed": false
   },
   "id": "58970a8a7c634a76"
  },
  {
   "cell_type": "code",
   "execution_count": null,
   "outputs": [],
   "source": [
    "# 计算混淆矩阵\n",
    "conf_matrix = confusion_matrix(y_test, y_pred)\n",
    "emotions=['neutral','happy','sad','angry', 'fear','disgust','surprise']\n",
    "# 使用seaborn绘制热力图\n",
    "plt.figure(figsize=(8, 6))\n",
    "sns.heatmap(conf_matrix, annot=True, fmt='d', cmap='Blues', xticklabels=[i for i in emotions],\n",
    "            yticklabels=[i for i in emotions])\n",
    "plt.xlabel('Predicted')\n",
    "plt.ylabel('True')\n",
    "plt.title('Confusion Matrix')\n",
    "plt.show()"
   ],
   "metadata": {
    "collapsed": false
   },
   "id": "cc38dd694e6602d"
  }
 ],
 "metadata": {
  "kernelspec": {
   "display_name": "Python 3",
   "language": "python",
   "name": "python3"
  },
  "language_info": {
   "codemirror_mode": {
    "name": "ipython",
    "version": 2
   },
   "file_extension": ".py",
   "mimetype": "text/x-python",
   "name": "python",
   "nbconvert_exporter": "python",
   "pygments_lexer": "ipython2",
   "version": "2.7.6"
  }
 },
 "nbformat": 4,
 "nbformat_minor": 5
}
